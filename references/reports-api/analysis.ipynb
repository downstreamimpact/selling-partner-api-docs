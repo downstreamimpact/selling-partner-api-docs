{
 "cells": [
  {
   "cell_type": "code",
   "execution_count": 1,
   "metadata": {},
   "outputs": [],
   "source": [
    "from collections import Counter, defaultdict\n",
    "import json\n",
    "from pprint import pprint"
   ]
  },
  {
   "cell_type": "code",
   "execution_count": 2,
   "metadata": {},
   "outputs": [],
   "source": [
    "reporttype_values = json.load(open(\"reporttype-values.json\"))"
   ]
  },
  {
   "cell_type": "markdown",
   "metadata": {},
   "source": [
    "How many categories of reports are there?"
   ]
  },
  {
   "cell_type": "code",
   "execution_count": 3,
   "metadata": {},
   "outputs": [
    {
     "data": {
      "text/plain": [
       "16"
      ]
     },
     "execution_count": 3,
     "metadata": {},
     "output_type": "execute_result"
    }
   ],
   "source": [
    "len(reporttype_values)"
   ]
  },
  {
   "cell_type": "markdown",
   "metadata": {},
   "source": [
    "How many report types are per category?"
   ]
  },
  {
   "cell_type": "code",
   "execution_count": 4,
   "metadata": {},
   "outputs": [
    {
     "data": {
      "text/plain": [
       "{'Brand Analytics reports': 5,\n",
       " 'Vendor retail analytics reports': 4,\n",
       " 'Inventory reports': 13,\n",
       " 'Order reports': 7,\n",
       " 'Order tracking reports': 5,\n",
       " 'Pending order reports': 3,\n",
       " 'Returns reports': 6,\n",
       " 'Performance reports': 4,\n",
       " 'Settlement reports': 3,\n",
       " 'Fulfillment by Amazon': 41,\n",
       " 'Tax Reports': 5,\n",
       " 'Browse tree report': 1,\n",
       " 'Easy ship reports': 3,\n",
       " 'Amazon business reports': 2,\n",
       " 'Amazon pay report': 1,\n",
       " 'B2B product opportunities reports': 2}"
      ]
     },
     "execution_count": 4,
     "metadata": {},
     "output_type": "execute_result"
    }
   ],
   "source": [
    "{k:len(v[0]) for k,v in reporttype_values.items()}"
   ]
  },
  {
   "cell_type": "markdown",
   "metadata": {},
   "source": [
    "How many report types are?"
   ]
  },
  {
   "cell_type": "code",
   "execution_count": 5,
   "metadata": {},
   "outputs": [
    {
     "name": "stdout",
     "output_type": "stream",
     "text": [
      "Summing categories count: 105\n",
      "Counting unique report types: 101\n"
     ]
    }
   ],
   "source": [
    "print(\"Summing categories count:\", sum(len(v[0]) for _,v in reporttype_values.items()))\n",
    "print(\"Counting unique report types:\", len({ v2 for _,v in reporttype_values.items() for v2 in v[0]}))"
   ]
  },
  {
   "cell_type": "markdown",
   "metadata": {},
   "source": [
    "Report types in more than a category"
   ]
  },
  {
   "cell_type": "code",
   "execution_count": 6,
   "metadata": {},
   "outputs": [
    {
     "name": "stdout",
     "output_type": "stream",
     "text": [
      "Reports in several categories: \n",
      "['GET_FLAT_FILE_ALL_ORDERS_DATA_BY_LAST_UPDATE_GENERAL', 'GET_FLAT_FILE_ALL_ORDERS_DATA_BY_ORDER_DATE_GENERAL', 'GET_XML_ALL_ORDERS_DATA_BY_LAST_UPDATE_GENERAL', 'GET_XML_ALL_ORDERS_DATA_BY_ORDER_DATE_GENERAL']\n",
      "\n",
      "Categories and file formats for non-unique reports: \n",
      "{'GET_FLAT_FILE_ALL_ORDERS_DATA_BY_LAST_UPDATE_GENERAL': {'Fulfillment by Amazon': {'file_format': {'file_format': 'tsv'}},\n",
      "                                                          'Order tracking reports': {'file_format': {'file_format': 'tsv'}}},\n",
      " 'GET_FLAT_FILE_ALL_ORDERS_DATA_BY_ORDER_DATE_GENERAL': {'Fulfillment by Amazon': {'file_format': {'file_format': 'tsv'}},\n",
      "                                                         'Order tracking reports': {'file_format': {'file_format': 'tsv'}}},\n",
      " 'GET_XML_ALL_ORDERS_DATA_BY_LAST_UPDATE_GENERAL': {'Fulfillment by Amazon': {'file_format': {'file_format': 'xml'}},\n",
      "                                                    'Order tracking reports': {'file_format': {'file_format': 'xml'}}},\n",
      " 'GET_XML_ALL_ORDERS_DATA_BY_ORDER_DATE_GENERAL': {'Fulfillment by Amazon': {'file_format': {'file_format': 'xml'}},\n",
      "                                                   'Order tracking reports': {'file_format': {'file_format': 'xml'}}}}\n"
     ]
    }
   ],
   "source": [
    "report_types_by_categories = defaultdict(list)\n",
    "for category, report_types in reporttype_values.items():\n",
    "    for report_type, _ in report_types[0].items():\n",
    "        report_types_by_categories[report_type].append(category)\n",
    "non_unique_report_types = {report_type: categories for report_type, categories in report_types_by_categories.items() if len(categories) > 1}\n",
    "print(\"Reports in several categories: \")\n",
    "print(list(non_unique_report_types.keys()))\n",
    "print()\n",
    "print(\"Categories and file formats for non-unique reports: \")\n",
    "pprint({report_type: {cat: {'file_format': reporttype_values[cat][0][report_type]} for cat in categories} for report_type, categories in non_unique_report_types.items()})"
   ]
  },
  {
   "cell_type": "markdown",
   "metadata": {},
   "source": [
    "File format dictionary for REPORT_FILE_FORMATS dict in Gambit's config.py (Beware that it has unknown formats and erros)"
   ]
  },
  {
   "cell_type": "code",
   "execution_count": 7,
   "metadata": {},
   "outputs": [
    {
     "data": {
      "text/plain": [
       "{'GET_BRAND_ANALYTICS_MARKET_BASKET_REPORT': {'file_format': 'json'},\n",
       " 'GET_BRAND_ANALYTICS_SEARCH_TERMS_REPORT': {'file_format': 'json'},\n",
       " 'GET_BRAND_ANALYTICS_REPEAT_PURCHASE_REPORT': {'file_format': 'json'},\n",
       " 'GET_BRAND_ANALYTICS_ALTERNATE_PURCHASE_REPORT': {'file_format': 'json'},\n",
       " 'GET_BRAND_ANALYTICS_ITEM_COMPARISON_REPORT': {'file_format': 'json'},\n",
       " 'GET_VENDOR_SALES_DIAGNOSTIC_REPORT': {'file_format': 'json'},\n",
       " 'GET_VENDOR_INVENTORY_HEALTH_AND_PLANNING_REPORT': {'file_format': 'json'},\n",
       " 'GET_VENDOR_DEMAND_FORECAST_REPORT': {'file_format': 'json'},\n",
       " 'GET_VENDOR_NET_PURE_PRODUCT_MARGIN_REPORT': {'file_format': 'json'},\n",
       " 'GET_FLAT_FILE_OPEN_LISTINGS_DATA': {'file_format': 'tsv'},\n",
       " 'GET_MERCHANT_LISTINGS_ALL_DATA': {'file_format': 'tsv'},\n",
       " 'GET_MERCHANT_LISTINGS_DATA': {'file_format': 'tsv'},\n",
       " 'GET_MERCHANT_LISTINGS_INACTIVE_DATA': {'file_format': 'tsv'},\n",
       " 'GET_MERCHANT_LISTINGS_DATA_BACK_COMPAT': {'file_format': 'tsv'},\n",
       " 'GET_MERCHANT_LISTINGS_DATA_LITE': {'file_format': 'tsv'},\n",
       " 'GET_MERCHANT_LISTINGS_DATA_LITER': {'file_format': 'tsv'},\n",
       " 'GET_MERCHANT_CANCELLED_LISTINGS_DATA': {'file_format': 'tsv'},\n",
       " 'GET_MERCHANTS_LISTINGS_FYP_REPORT': {'file_format': 'tsv'},\n",
       " 'GET_MERCHANT_LISTINGS_DEFECT_DATA': {'file_format': 'tsv'},\n",
       " 'GET_PAN_EU_OFFER_STATUS': {'file_format': 'tsv'},\n",
       " 'GET_MFN_PAN_EU_OFFER_STATUS': {'file_format': 'tsv'},\n",
       " 'GET_REFERRAL_FEE_PREVIEW_REPORT': {'file_format': 'tsv'},\n",
       " 'GET_FLAT_FILE_ACTIONABLE_ORDER_DATA_SHIPPING': {'file_format': 'tsv'},\n",
       " 'GET_ORDER_REPORT_DATA_INVOICING': {'file_format': 'xml'},\n",
       " 'GET_ORDER_REPORT_DATA_TAX': {'file_format': 'xml'},\n",
       " 'GET_ORDER_REPORT_DATA_SHIPPING': {'file_format': 'xml'},\n",
       " 'GET_FLAT_FILE_ORDER_REPORT_DATA_INVOICING': {'file_format': 'tsv'},\n",
       " 'GET_FLAT_FILE_ORDER_REPORT_DATA_SHIPPING': {'file_format': 'tsv'},\n",
       " 'GET_FLAT_FILE_ORDER_REPORT_DATA_TAX': {'file_format': 'tsv'},\n",
       " 'GET_FLAT_FILE_ALL_ORDERS_DATA_BY_LAST_UPDATE_GENERAL': {'file_format': 'tsv'},\n",
       " 'GET_FLAT_FILE_ALL_ORDERS_DATA_BY_ORDER_DATE_GENERAL': {'file_format': 'tsv'},\n",
       " 'GET_FLAT_FILE_ARCHIVED_ORDERS_DATA_BY_ORDER_DATE': {'file_format': 'tsv'},\n",
       " 'GET_XML_ALL_ORDERS_DATA_BY_LAST_UPDATE_GENERAL': {'file_format': 'xml'},\n",
       " 'GET_XML_ALL_ORDERS_DATA_BY_ORDER_DATE_GENERAL': {'file_format': 'xml'},\n",
       " 'GET_FLAT_FILE_PENDING_ORDERS_DATA': {'file_format': 'tsv'},\n",
       " 'GET_PENDING_ORDERS_DATA': {'file_format': 'xml'},\n",
       " 'GET_CONVERGED_FLAT_FILE_PENDING_ORDERS_DATA': {},\n",
       " 'GET_XML_RETURNS_DATA_BY_RETURN_DATE': {'file_format': 'xml'},\n",
       " 'GET_FLAT_FILE_RETURNS_DATA_BY_RETURN_DATE': {'file_format': 'tsv'},\n",
       " 'GET_XML_MFN_PRIME_RETURNS_REPORT': {'file_format': 'xml'},\n",
       " 'GET_CSV_MFN_PRIME_RETURNS_REPORT': {'file_format': 'csv'},\n",
       " 'GET_XML_MFN_SKU_RETURN_ATTRIBUTES_REPORT': {'file_format': 'xml'},\n",
       " 'GET_FLAT_FILE_MFN_SKU_RETURN_ATTRIBUTES_REPORT': {'file_format': 'tsv'},\n",
       " 'GET_SELLER_FEEDBACK_DATA': {'file_format': 'tsv'},\n",
       " 'GET_V1_SELLER_PERFORMANCE_REPORT': {'file_format': 'xml'},\n",
       " 'GET_V2_SELLER_PERFORMANCE_REPORT': {},\n",
       " 'GET_PROMOTION_PERFORMANCE_REPORT': {'file_format': 'json'},\n",
       " 'GET_V2_SETTLEMENT_REPORT_DATA_FLAT_FILE': {'file_format': 'tsv'},\n",
       " 'GET_V2_SETTLEMENT_REPORT_DATA_XML': {'file_format': 'xml'},\n",
       " 'GET_V2_SETTLEMENT_REPORT_DATA_FLAT_FILE_V2': {'file_format': 'tsv'},\n",
       " 'GET_AMAZON_FULFILLED_SHIPMENTS_DATA_GENERAL': {'file_format': 'tsv'},\n",
       " 'GET_AMAZON_FULFILLED_SHIPMENTS_DATA_INVOICING': {'file_format': 'tsv'},\n",
       " 'GET_AMAZON_FULFILLED_SHIPMENTS_DATA_TAX': {'file_format': 'tsv'},\n",
       " 'GET_FBA_FULFILLMENT_CUSTOMER_SHIPMENT_SALES_DATA': {'file_format': 'tsv'},\n",
       " 'GET_FBA_FULFILLMENT_CUSTOMER_SHIPMENT_PROMOTION_DATA': {'file_format': 'tsv'},\n",
       " 'GET_FBA_FULFILLMENT_CUSTOMER_TAXES_DATA': {'file_format': 'tsv'},\n",
       " 'GET_REMOTE_FULFILLMENT_ELIGIBILITY': {'file_format': 'tsv'},\n",
       " 'GET_AFN_INVENTORY_DATA': {'file_format': 'tsv'},\n",
       " 'GET_AFN_INVENTORY_DATA_BY_COUNTRY': {'file_format': 'tsv'},\n",
       " 'GET_LEDGER_SUMMARY_VIEW_DATA': {'file_format': 'tsv'},\n",
       " 'GET_LEDGER_DETAIL_VIEW_DATA': {'file_format': 'tsv'},\n",
       " 'GET_FBA_FULFILLMENT_CURRENT_INVENTORY_DATA': {'file_format': 'tsv'},\n",
       " 'GET_FBA_FULFILLMENT_MONTHLY_INVENTORY_DATA': {'file_format': 'tsv'},\n",
       " 'GET_FBA_FULFILLMENT_INVENTORY_RECEIPTS_DATA': {'file_format': 'tsv'},\n",
       " 'GET_RESERVED_INVENTORY_DATA': {'file_format': 'tsv'},\n",
       " 'GET_FBA_FULFILLMENT_INVENTORY_SUMMARY_DATA': {'file_format': 'tsv'},\n",
       " 'GET_FBA_FULFILLMENT_INVENTORY_ADJUSTMENTS_DATA': {'file_format': 'tsv'},\n",
       " 'GET_FBA_FULFILLMENT_INVENTORY_HEALTH_DATA': {'file_format': 'tsv'},\n",
       " 'GET_FBA_MYI_UNSUPPRESSED_INVENTORY_DATA': {'file_format': 'tsv'},\n",
       " 'GET_FBA_MYI_ALL_INVENTORY_DATA': {'file_format': 'tsv'},\n",
       " 'GET_RESTOCK_INVENTORY_RECOMMENDATIONS_REPORT': {'file_format': 'tsv'},\n",
       " 'GET_FBA_FULFILLMENT_INBOUND_NONCOMPLIANCE_DATA': {'file_format': 'tsv'},\n",
       " 'GET_STRANDED_INVENTORY_UI_DATA': {'file_format': 'tsv'},\n",
       " 'GET_STRANDED_INVENTORY_LOADER_DATA': {'file_format': 'tsv'},\n",
       " 'GET_FBA_INVENTORY_AGED_DATA': {'file_format': 'tsv'},\n",
       " 'GET_EXCESS_INVENTORY_DATA': {'file_format': 'tsv'},\n",
       " 'GET_FBA_STORAGE_FEE_CHARGES_DATA': {'file_format': 'tsv'},\n",
       " 'GET_PRODUCT_EXCHANGE_DATA': {'file_format': 'tsv'},\n",
       " 'GET_FBA_ESTIMATED_FBA_FEES_TXT_DATA': {'file_format': 'tsv'},\n",
       " 'GET_FBA_REIMBURSEMENTS_DATA': {'file_format': 'tsv'},\n",
       " 'GET_FBA_FULFILLMENT_LONGTERM_STORAGE_FEE_CHARGES_DATA': {'file_format': 'tsv'},\n",
       " 'GET_FBA_FULFILLMENT_CUSTOMER_RETURNS_DATA': {'file_format': 'tsv'},\n",
       " 'GET_FBA_FULFILLMENT_CUSTOMER_SHIPMENT_REPLACEMENT_DATA': {'file_format': 'tsv'},\n",
       " 'GET_FBA_RECOMMENDED_REMOVAL_DATA': {'file_format': 'tsv'},\n",
       " 'GET_FBA_FULFILLMENT_REMOVAL_ORDER_DETAIL_DATA': {'file_format': 'tsv'},\n",
       " 'GET_FBA_FULFILLMENT_REMOVAL_SHIPMENT_DETAIL_DATA': {'file_format': 'tsv'},\n",
       " 'GET_FBA_UNO_INVENTORY_DATA': {'file_format': 'tsv'},\n",
       " 'GET_FLAT_FILE_SALES_TAX_DATA': {'file_format': 'tsv'},\n",
       " 'SC_VAT_TAX_REPORT': {'file_format': 'csv'},\n",
       " 'GET_VAT_TRANSACTION_DATA': {'file_format': 'tsv'},\n",
       " 'GET_GST_MTR_B2B_CUSTOM': {'file_format': 'tsv'},\n",
       " 'GET_GST_MTR_B2C_CUSTOM': {'file_format': 'tsv'},\n",
       " 'GET_XML_BROWSE_TREE_DATA': {'file_format': 'xml'},\n",
       " 'GET_EASYSHIP_DOCUMENTS': {'file_format': 'pdf'},\n",
       " 'GET_EASYSHIP_PICKEDUP': {'file_format': 'tsv'},\n",
       " 'GET_EASYSHIP_WAITING_FOR_PICKUP': {'file_format': 'tsv'},\n",
       " 'RFQD_BULK_DOWNLOAD': {'file_format': 'xlsx'},\n",
       " 'FEE_DISCOUNTS_REPORT': {'file_format': 'xlsx'},\n",
       " 'GET_FLAT_FILE_OFFAMAZONPAYMENTS_SANDBOX_SETTLEMENT_DATA': {'file_format': 'csv'},\n",
       " 'GET_B2B_PRODUCT_OPPORTUNITIES_RECOMMENDED_FOR_YOU': {'file_format': 'csv'},\n",
       " 'GET_B2B_PRODUCT_OPPORTUNITIES_NOT_YET_ON_AMAZON': {'file_format': 'csv'}}"
      ]
     },
     "execution_count": 7,
     "metadata": {},
     "output_type": "execute_result"
    }
   ],
   "source": [
    "file_formats = { report_type: config if config else {}\n",
    "    for category, report_configs in reporttype_values.items() \n",
    "    for report_config in report_configs \n",
    "    for report_type, config in report_config.items()\n",
    "}\n",
    "file_formats"
   ]
  },
  {
   "cell_type": "code",
   "execution_count": 8,
   "metadata": {},
   "outputs": [
    {
     "data": {
      "text/plain": [
       "101"
      ]
     },
     "execution_count": 8,
     "metadata": {},
     "output_type": "execute_result"
    }
   ],
   "source": [
    "len(file_formats)"
   ]
  },
  {
   "cell_type": "markdown",
   "metadata": {},
   "source": [
    "File format count with unknown and errors"
   ]
  },
  {
   "cell_type": "code",
   "execution_count": 9,
   "metadata": {},
   "outputs": [
    {
     "data": {
      "text/plain": [
       "[('tsv', 69),\n",
       " ('xml', 12),\n",
       " ('json', 10),\n",
       " ('csv', 5),\n",
       " ('unknown', 2),\n",
       " ('xlsx', 2),\n",
       " ('pdf', 1)]"
      ]
     },
     "execution_count": 9,
     "metadata": {},
     "output_type": "execute_result"
    }
   ],
   "source": [
    "Counter(v.get(\"file_format\", 'unknown') for v in file_formats.values()).most_common()"
   ]
  },
  {
   "cell_type": "markdown",
   "metadata": {},
   "source": [
    "Unknown file formats"
   ]
  },
  {
   "cell_type": "code",
   "execution_count": 10,
   "metadata": {},
   "outputs": [
    {
     "data": {
      "text/plain": [
       "['GET_CONVERGED_FLAT_FILE_PENDING_ORDERS_DATA',\n",
       " 'GET_V2_SELLER_PERFORMANCE_REPORT']"
      ]
     },
     "execution_count": 10,
     "metadata": {},
     "output_type": "execute_result"
    }
   ],
   "source": [
    "sum([[k2 for k2,v2 in v[0].items() if not v2] for k,v in reporttype_values.items()], [])"
   ]
  },
  {
   "cell_type": "markdown",
   "metadata": {},
   "source": [
    "File format count per category with unknown and errors"
   ]
  },
  {
   "cell_type": "code",
   "execution_count": 11,
   "metadata": {},
   "outputs": [
    {
     "data": {
      "text/plain": [
       "{'Brand Analytics reports': Counter({'json': 5}),\n",
       " 'Vendor retail analytics reports': Counter({'json': 4}),\n",
       " 'Inventory reports': Counter({'tsv': 13}),\n",
       " 'Order reports': Counter({'tsv': 4, 'xml': 3}),\n",
       " 'Order tracking reports': Counter({'tsv': 3, 'xml': 2}),\n",
       " 'Pending order reports': Counter({'tsv': 1, 'xml': 1, 'unknown': 1}),\n",
       " 'Returns reports': Counter({'xml': 3, 'tsv': 2, 'csv': 1}),\n",
       " 'Performance reports': Counter({'tsv': 1, 'xml': 1, 'unknown': 1, 'json': 1}),\n",
       " 'Settlement reports': Counter({'tsv': 2, 'xml': 1}),\n",
       " 'Fulfillment by Amazon': Counter({'tsv': 39, 'xml': 2}),\n",
       " 'Tax Reports': Counter({'tsv': 4, 'csv': 1}),\n",
       " 'Browse tree report': Counter({'xml': 1}),\n",
       " 'Easy ship reports': Counter({'pdf': 1, 'tsv': 2}),\n",
       " 'Amazon business reports': Counter({'xlsx': 2}),\n",
       " 'Amazon pay report': Counter({'csv': 1}),\n",
       " 'B2B product opportunities reports': Counter({'csv': 2})}"
      ]
     },
     "execution_count": 11,
     "metadata": {},
     "output_type": "execute_result"
    }
   ],
   "source": [
    "{k:Counter([v2['file_format'] if v2 else 'unknown' for k,v2 in v[0].items()]) for k,v in reporttype_values.items()}"
   ]
  }
 ],
 "metadata": {
  "interpreter": {
   "hash": "aee8b7b246df8f9039afb4144a1f6fd8d2ca17a180786b69acc140d282b71a49"
  },
  "kernelspec": {
   "display_name": "Python 3.9.7 64-bit",
   "language": "python",
   "name": "python3"
  },
  "language_info": {
   "codemirror_mode": {
    "name": "ipython",
    "version": 3
   },
   "file_extension": ".py",
   "mimetype": "text/x-python",
   "name": "python",
   "nbconvert_exporter": "python",
   "pygments_lexer": "ipython3",
   "version": "3.9.7"
  },
  "orig_nbformat": 4
 },
 "nbformat": 4,
 "nbformat_minor": 2
}
